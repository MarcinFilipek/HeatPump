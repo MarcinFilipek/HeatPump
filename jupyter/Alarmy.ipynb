{
 "cells": [
  {
   "cell_type": "code",
   "execution_count": 1,
   "metadata": {},
   "outputs": [],
   "source": [
    "import pandas as pd"
   ]
  },
  {
   "cell_type": "markdown",
   "metadata": {},
   "source": [
    "Ciśnienie odparowania za niskie - sprawdzane przez cały czas, pobierane z EVD, domyślna wartość 260 (2.6 bara)\n",
    "Błąd presostatu niskiego ciśnienia - presostaty 0/1, jeżeli presostat zwróci 0"
   ]
  },
  {
   "cell_type": "code",
   "execution_count": 2,
   "metadata": {},
   "outputs": [],
   "source": [
    "date = '2020-01-12'\n",
    "path = '../data/{}_alarms.csv'.format(date)"
   ]
  },
  {
   "cell_type": "code",
   "execution_count": 3,
   "metadata": {},
   "outputs": [],
   "source": [
    "df = pd.read_csv(path)"
   ]
  },
  {
   "cell_type": "code",
   "execution_count": 4,
   "metadata": {},
   "outputs": [
    {
     "data": {
      "text/html": [
       "<div>\n",
       "<style scoped>\n",
       "    .dataframe tbody tr th:only-of-type {\n",
       "        vertical-align: middle;\n",
       "    }\n",
       "\n",
       "    .dataframe tbody tr th {\n",
       "        vertical-align: top;\n",
       "    }\n",
       "\n",
       "    .dataframe thead th {\n",
       "        text-align: right;\n",
       "    }\n",
       "</style>\n",
       "<table border=\"1\" class=\"dataframe\">\n",
       "  <thead>\n",
       "    <tr style=\"text-align: right;\">\n",
       "      <th></th>\n",
       "      <th>id_module</th>\n",
       "      <th>row_data</th>\n",
       "      <th>message_time</th>\n",
       "      <th>message_head</th>\n",
       "      <th>message_body</th>\n",
       "    </tr>\n",
       "  </thead>\n",
       "  <tbody>\n",
       "    <tr>\n",
       "      <th>0</th>\n",
       "      <td>20752</td>\n",
       "      <td>{'raw_data': '30002,0,4125,25,0,-1,0,0,0'}</td>\n",
       "      <td>2020-01-12 18:11:11.608027</td>\n",
       "      <td>Alarm</td>\n",
       "      <td>Błąd czujnika kolejności i zaniku faz zasilania</td>\n",
       "    </tr>\n",
       "  </tbody>\n",
       "</table>\n",
       "</div>"
      ],
      "text/plain": [
       "   id_module                                    row_data  \\\n",
       "0      20752  {'raw_data': '30002,0,4125,25,0,-1,0,0,0'}   \n",
       "\n",
       "                 message_time message_head  \\\n",
       "0  2020-01-12 18:11:11.608027        Alarm   \n",
       "\n",
       "                                      message_body  \n",
       "0  Błąd czujnika kolejności i zaniku faz zasilania  "
      ]
     },
     "execution_count": 4,
     "metadata": {},
     "output_type": "execute_result"
    }
   ],
   "source": [
    "df"
   ]
  },
  {
   "cell_type": "code",
   "execution_count": null,
   "metadata": {},
   "outputs": [],
   "source": []
  }
 ],
 "metadata": {
  "kernelspec": {
   "display_name": "Python 3",
   "language": "python",
   "name": "python3"
  },
  "language_info": {
   "codemirror_mode": {
    "name": "ipython",
    "version": 3
   },
   "file_extension": ".py",
   "mimetype": "text/x-python",
   "name": "python",
   "nbconvert_exporter": "python",
   "pygments_lexer": "ipython3",
   "version": "3.7.3"
  }
 },
 "nbformat": 4,
 "nbformat_minor": 2
}
