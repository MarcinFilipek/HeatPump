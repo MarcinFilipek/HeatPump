{
 "cells": [
  {
   "cell_type": "code",
   "execution_count": 12,
   "metadata": {},
   "outputs": [],
   "source": [
    "import pandas as pd\n",
    "import numpy as np\n",
    "import matplotlib.pyplot as plt\n",
    "import ast\n",
    "%matplotlib inline\n",
    "import seaborn as sns"
   ]
  },
  {
   "cell_type": "code",
   "execution_count": 13,
   "metadata": {},
   "outputs": [],
   "source": [
    "date = '2020-01-12'\n",
    "path = '../data/{}.csv'.format(date)"
   ]
  },
  {
   "cell_type": "code",
   "execution_count": 14,
   "metadata": {},
   "outputs": [
    {
     "name": "stdout",
     "output_type": "stream",
     "text": [
      "<class 'pandas.core.frame.DataFrame'>\n",
      "RangeIndex: 694393 entries, 0 to 694392\n",
      "Data columns (total 4 columns):\n",
      "id_module    694393 non-null int64\n",
      "id_status    694393 non-null int64\n",
      "value        694393 non-null object\n",
      "time         694393 non-null datetime64[ns]\n",
      "dtypes: datetime64[ns](1), int64(2), object(1)\n",
      "memory usage: 21.2+ MB\n"
     ]
    }
   ],
   "source": [
    "df = pd.read_csv(path)\n",
    "df.time = pd.to_datetime(df.time)\n",
    "df.info()"
   ]
  },
  {
   "cell_type": "markdown",
   "metadata": {},
   "source": [
    "### Lista parametrow."
   ]
  },
  {
   "cell_type": "code",
   "execution_count": 15,
   "metadata": {},
   "outputs": [],
   "source": [
    "parameters = {'TC_COMPRESSOR_STATE': 1007, \n",
    "              'TC_COMPRESSED_GAS_TEMP': 1022,\n",
    "              'TC_EVD_VALVE_OPENING': 1674,\n",
    "              'TC_EVD_CONDENSING_PRESSURE': 1668,\n",
    "              'TC_COMPRESSOR_LAST_WORK_TIME': 1816,}"
   ]
  },
  {
   "cell_type": "markdown",
   "metadata": {},
   "source": [
    "### Lista modułów."
   ]
  },
  {
   "cell_type": "code",
   "execution_count": 16,
   "metadata": {},
   "outputs": [
    {
     "data": {
      "text/plain": [
       "array([20752, 21834, 23082,  5599, 10865, 16031])"
      ]
     },
     "execution_count": 16,
     "metadata": {},
     "output_type": "execute_result"
    }
   ],
   "source": [
    "modules = df.id_module.unique()\n",
    "modules"
   ]
  },
  {
   "cell_type": "markdown",
   "metadata": {},
   "source": [
    "### Lista parametrów."
   ]
  },
  {
   "cell_type": "code",
   "execution_count": 17,
   "metadata": {},
   "outputs": [
    {
     "data": {
      "text/plain": [
       "dict_values([1007, 1022, 1674, 1668, 1816])"
      ]
     },
     "execution_count": 17,
     "metadata": {},
     "output_type": "execute_result"
    }
   ],
   "source": [
    "parameters_value = parameters.values()\n",
    "parameters_value"
   ]
  },
  {
   "cell_type": "markdown",
   "metadata": {},
   "source": [
    "### Dane."
   ]
  },
  {
   "cell_type": "code",
   "execution_count": 31,
   "metadata": {},
   "outputs": [],
   "source": [
    "def get_value(val):\n",
    "    arr_val = val.split(',')\n",
    "    type = int(arr_val[2])\n",
    "    if type == 1:\n",
    "        return int(arr_val[6])\n",
    "    elif type == 6:\n",
    "        return int(arr_val[11])\n",
    "    elif type == 11:\n",
    "        return int(arr_val[4])\n",
    "    else:\n",
    "        return np.nan"
   ]
  },
  {
   "cell_type": "code",
   "execution_count": 38,
   "metadata": {},
   "outputs": [],
   "source": [
    "data = df.copy()\n",
    "data = data[data.id_status.isin(parameters_value)]\n",
    "data = data.sort_values('time')\n",
    "data['val'] = data['value'].apply(get_value)\n",
    "data = data.drop('value', axis=1)\n",
    "data.time = data.time.apply(lambda x: x.time().replace(second=0, microsecond=0))"
   ]
  },
  {
   "cell_type": "code",
   "execution_count": 33,
   "metadata": {},
   "outputs": [],
   "source": [
    "def prepare_data_for_module(id_module, data, parameters):\n",
    "    data = data[data.id_module == id_module]\n",
    "    columns = list(parameters.keys())\n",
    "    columns.append('TIME')\n",
    "    module_data = pd.DataFrame(columns=columns)\n",
    "    \n",
    "    \n",
    "    module_data['TIME'] = data.time.unique()\n",
    "    for k in parameters:\n",
    "        module_data[k] = data[data.id_status == parameters[k]]['val'].values\n",
    "    return module_data"
   ]
  },
  {
   "cell_type": "code",
   "execution_count": 34,
   "metadata": {},
   "outputs": [],
   "source": [
    "# fix dla modulu 23082\n",
    "\n",
    "data_module = prepare_data_for_module(5599, data, parameters)\n",
    "data_module['WORK_TIMER'] = data_module.TC_COMPRESSOR_STATE * data_module.TC_COMPRESSOR_LAST_WORK_TIME"
   ]
  },
  {
   "cell_type": "code",
   "execution_count": 35,
   "metadata": {},
   "outputs": [
    {
     "data": {
      "text/html": [
       "<style  type=\"text/css\" >\n",
       "    #T_e8c0b69e_3765_11ea_bce2_e4f89cca76b4row0_col0 {\n",
       "            background-color:  #b40426;\n",
       "            color:  #f1f1f1;\n",
       "        }    #T_e8c0b69e_3765_11ea_bce2_e4f89cca76b4row0_col1 {\n",
       "            background-color:  #eb7d62;\n",
       "            color:  #000000;\n",
       "        }    #T_e8c0b69e_3765_11ea_bce2_e4f89cca76b4row0_col2 {\n",
       "            background-color:  #d55042;\n",
       "            color:  #000000;\n",
       "        }    #T_e8c0b69e_3765_11ea_bce2_e4f89cca76b4row0_col3 {\n",
       "            background-color:  #f6bfa6;\n",
       "            color:  #000000;\n",
       "        }    #T_e8c0b69e_3765_11ea_bce2_e4f89cca76b4row0_col4 {\n",
       "            background-color:  #3b4cc0;\n",
       "            color:  #f1f1f1;\n",
       "        }    #T_e8c0b69e_3765_11ea_bce2_e4f89cca76b4row0_col5 {\n",
       "            background-color:  #ead4c8;\n",
       "            color:  #000000;\n",
       "        }    #T_e8c0b69e_3765_11ea_bce2_e4f89cca76b4row1_col0 {\n",
       "            background-color:  #e46e56;\n",
       "            color:  #000000;\n",
       "        }    #T_e8c0b69e_3765_11ea_bce2_e4f89cca76b4row1_col1 {\n",
       "            background-color:  #b40426;\n",
       "            color:  #f1f1f1;\n",
       "        }    #T_e8c0b69e_3765_11ea_bce2_e4f89cca76b4row1_col2 {\n",
       "            background-color:  #f7b194;\n",
       "            color:  #000000;\n",
       "        }    #T_e8c0b69e_3765_11ea_bce2_e4f89cca76b4row1_col3 {\n",
       "            background-color:  #e16751;\n",
       "            color:  #000000;\n",
       "        }    #T_e8c0b69e_3765_11ea_bce2_e4f89cca76b4row1_col4 {\n",
       "            background-color:  #7093f3;\n",
       "            color:  #000000;\n",
       "        }    #T_e8c0b69e_3765_11ea_bce2_e4f89cca76b4row1_col5 {\n",
       "            background-color:  #ecd3c5;\n",
       "            color:  #000000;\n",
       "        }    #T_e8c0b69e_3765_11ea_bce2_e4f89cca76b4row2_col0 {\n",
       "            background-color:  #d55042;\n",
       "            color:  #000000;\n",
       "        }    #T_e8c0b69e_3765_11ea_bce2_e4f89cca76b4row2_col1 {\n",
       "            background-color:  #f4c5ad;\n",
       "            color:  #000000;\n",
       "        }    #T_e8c0b69e_3765_11ea_bce2_e4f89cca76b4row2_col2 {\n",
       "            background-color:  #b40426;\n",
       "            color:  #f1f1f1;\n",
       "        }    #T_e8c0b69e_3765_11ea_bce2_e4f89cca76b4row2_col3 {\n",
       "            background-color:  #bed2f6;\n",
       "            color:  #000000;\n",
       "        }    #T_e8c0b69e_3765_11ea_bce2_e4f89cca76b4row2_col4 {\n",
       "            background-color:  #3b4cc0;\n",
       "            color:  #f1f1f1;\n",
       "        }    #T_e8c0b69e_3765_11ea_bce2_e4f89cca76b4row2_col5 {\n",
       "            background-color:  #b6cefa;\n",
       "            color:  #000000;\n",
       "        }    #T_e8c0b69e_3765_11ea_bce2_e4f89cca76b4row3_col0 {\n",
       "            background-color:  #f7aa8c;\n",
       "            color:  #000000;\n",
       "        }    #T_e8c0b69e_3765_11ea_bce2_e4f89cca76b4row3_col1 {\n",
       "            background-color:  #e16751;\n",
       "            color:  #000000;\n",
       "        }    #T_e8c0b69e_3765_11ea_bce2_e4f89cca76b4row3_col2 {\n",
       "            background-color:  #dcdddd;\n",
       "            color:  #000000;\n",
       "        }    #T_e8c0b69e_3765_11ea_bce2_e4f89cca76b4row3_col3 {\n",
       "            background-color:  #b40426;\n",
       "            color:  #f1f1f1;\n",
       "        }    #T_e8c0b69e_3765_11ea_bce2_e4f89cca76b4row3_col4 {\n",
       "            background-color:  #7396f5;\n",
       "            color:  #000000;\n",
       "        }    #T_e8c0b69e_3765_11ea_bce2_e4f89cca76b4row3_col5 {\n",
       "            background-color:  #97b8ff;\n",
       "            color:  #000000;\n",
       "        }    #T_e8c0b69e_3765_11ea_bce2_e4f89cca76b4row4_col0 {\n",
       "            background-color:  #3b4cc0;\n",
       "            color:  #f1f1f1;\n",
       "        }    #T_e8c0b69e_3765_11ea_bce2_e4f89cca76b4row4_col1 {\n",
       "            background-color:  #3b4cc0;\n",
       "            color:  #f1f1f1;\n",
       "        }    #T_e8c0b69e_3765_11ea_bce2_e4f89cca76b4row4_col2 {\n",
       "            background-color:  #3b4cc0;\n",
       "            color:  #f1f1f1;\n",
       "        }    #T_e8c0b69e_3765_11ea_bce2_e4f89cca76b4row4_col3 {\n",
       "            background-color:  #3b4cc0;\n",
       "            color:  #f1f1f1;\n",
       "        }    #T_e8c0b69e_3765_11ea_bce2_e4f89cca76b4row4_col4 {\n",
       "            background-color:  #b40426;\n",
       "            color:  #f1f1f1;\n",
       "        }    #T_e8c0b69e_3765_11ea_bce2_e4f89cca76b4row4_col5 {\n",
       "            background-color:  #3b4cc0;\n",
       "            color:  #f1f1f1;\n",
       "        }    #T_e8c0b69e_3765_11ea_bce2_e4f89cca76b4row5_col0 {\n",
       "            background-color:  #f39778;\n",
       "            color:  #000000;\n",
       "        }    #T_e8c0b69e_3765_11ea_bce2_e4f89cca76b4row5_col1 {\n",
       "            background-color:  #f7a889;\n",
       "            color:  #000000;\n",
       "        }    #T_e8c0b69e_3765_11ea_bce2_e4f89cca76b4row5_col2 {\n",
       "            background-color:  #f7bca1;\n",
       "            color:  #000000;\n",
       "        }    #T_e8c0b69e_3765_11ea_bce2_e4f89cca76b4row5_col3 {\n",
       "            background-color:  #e1dad6;\n",
       "            color:  #000000;\n",
       "        }    #T_e8c0b69e_3765_11ea_bce2_e4f89cca76b4row5_col4 {\n",
       "            background-color:  #cfdaea;\n",
       "            color:  #000000;\n",
       "        }    #T_e8c0b69e_3765_11ea_bce2_e4f89cca76b4row5_col5 {\n",
       "            background-color:  #b40426;\n",
       "            color:  #f1f1f1;\n",
       "        }</style><table id=\"T_e8c0b69e_3765_11ea_bce2_e4f89cca76b4\" ><thead>    <tr>        <th class=\"blank level0\" ></th>        <th class=\"col_heading level0 col0\" >TC_COMPRESSOR_STATE</th>        <th class=\"col_heading level0 col1\" >TC_COMPRESSED_GAS_TEMP</th>        <th class=\"col_heading level0 col2\" >TC_EVD_VALVE_OPENING</th>        <th class=\"col_heading level0 col3\" >TC_EVD_CONDENSING_PRESSURE</th>        <th class=\"col_heading level0 col4\" >TC_COMPRESSOR_LAST_WORK_TIME</th>        <th class=\"col_heading level0 col5\" >WORK_TIMER</th>    </tr></thead><tbody>\n",
       "                <tr>\n",
       "                        <th id=\"T_e8c0b69e_3765_11ea_bce2_e4f89cca76b4level0_row0\" class=\"row_heading level0 row0\" >TC_COMPRESSOR_STATE</th>\n",
       "                        <td id=\"T_e8c0b69e_3765_11ea_bce2_e4f89cca76b4row0_col0\" class=\"data row0 col0\" >1</td>\n",
       "                        <td id=\"T_e8c0b69e_3765_11ea_bce2_e4f89cca76b4row0_col1\" class=\"data row0 col1\" >0.798962</td>\n",
       "                        <td id=\"T_e8c0b69e_3765_11ea_bce2_e4f89cca76b4row0_col2\" class=\"data row0 col2\" >0.872739</td>\n",
       "                        <td id=\"T_e8c0b69e_3765_11ea_bce2_e4f89cca76b4row0_col3\" class=\"data row0 col3\" >0.61512</td>\n",
       "                        <td id=\"T_e8c0b69e_3765_11ea_bce2_e4f89cca76b4row0_col4\" class=\"data row0 col4\" >-0.31133</td>\n",
       "                        <td id=\"T_e8c0b69e_3765_11ea_bce2_e4f89cca76b4row0_col5\" class=\"data row0 col5\" >0.680182</td>\n",
       "            </tr>\n",
       "            <tr>\n",
       "                        <th id=\"T_e8c0b69e_3765_11ea_bce2_e4f89cca76b4level0_row1\" class=\"row_heading level0 row1\" >TC_COMPRESSED_GAS_TEMP</th>\n",
       "                        <td id=\"T_e8c0b69e_3765_11ea_bce2_e4f89cca76b4row1_col0\" class=\"data row1 col0\" >0.798962</td>\n",
       "                        <td id=\"T_e8c0b69e_3765_11ea_bce2_e4f89cca76b4row1_col1\" class=\"data row1 col1\" >1</td>\n",
       "                        <td id=\"T_e8c0b69e_3765_11ea_bce2_e4f89cca76b4row1_col2\" class=\"data row1 col2\" >0.589343</td>\n",
       "                        <td id=\"T_e8c0b69e_3765_11ea_bce2_e4f89cca76b4row1_col3\" class=\"data row1 col3\" >0.849245</td>\n",
       "                        <td id=\"T_e8c0b69e_3765_11ea_bce2_e4f89cca76b4row1_col4\" class=\"data row1 col4\" >-0.0882586</td>\n",
       "                        <td id=\"T_e8c0b69e_3765_11ea_bce2_e4f89cca76b4row1_col5\" class=\"data row1 col5\" >0.687383</td>\n",
       "            </tr>\n",
       "            <tr>\n",
       "                        <th id=\"T_e8c0b69e_3765_11ea_bce2_e4f89cca76b4level0_row2\" class=\"row_heading level0 row2\" >TC_EVD_VALVE_OPENING</th>\n",
       "                        <td id=\"T_e8c0b69e_3765_11ea_bce2_e4f89cca76b4row2_col0\" class=\"data row2 col0\" >0.872739</td>\n",
       "                        <td id=\"T_e8c0b69e_3765_11ea_bce2_e4f89cca76b4row2_col1\" class=\"data row2 col1\" >0.589343</td>\n",
       "                        <td id=\"T_e8c0b69e_3765_11ea_bce2_e4f89cca76b4row2_col2\" class=\"data row2 col2\" >1</td>\n",
       "                        <td id=\"T_e8c0b69e_3765_11ea_bce2_e4f89cca76b4row2_col3\" class=\"data row2 col3\" >0.343544</td>\n",
       "                        <td id=\"T_e8c0b69e_3765_11ea_bce2_e4f89cca76b4row2_col4\" class=\"data row2 col4\" >-0.30847</td>\n",
       "                        <td id=\"T_e8c0b69e_3765_11ea_bce2_e4f89cca76b4row2_col5\" class=\"data row2 col5\" >0.548027</td>\n",
       "            </tr>\n",
       "            <tr>\n",
       "                        <th id=\"T_e8c0b69e_3765_11ea_bce2_e4f89cca76b4level0_row3\" class=\"row_heading level0 row3\" >TC_EVD_CONDENSING_PRESSURE</th>\n",
       "                        <td id=\"T_e8c0b69e_3765_11ea_bce2_e4f89cca76b4row3_col0\" class=\"data row3 col0\" >0.61512</td>\n",
       "                        <td id=\"T_e8c0b69e_3765_11ea_bce2_e4f89cca76b4row3_col1\" class=\"data row3 col1\" >0.849245</td>\n",
       "                        <td id=\"T_e8c0b69e_3765_11ea_bce2_e4f89cca76b4row3_col2\" class=\"data row3 col2\" >0.343544</td>\n",
       "                        <td id=\"T_e8c0b69e_3765_11ea_bce2_e4f89cca76b4row3_col3\" class=\"data row3 col3\" >1</td>\n",
       "                        <td id=\"T_e8c0b69e_3765_11ea_bce2_e4f89cca76b4row3_col4\" class=\"data row3 col4\" >-0.0781121</td>\n",
       "                        <td id=\"T_e8c0b69e_3765_11ea_bce2_e4f89cca76b4row3_col5\" class=\"data row3 col5\" >0.480802</td>\n",
       "            </tr>\n",
       "            <tr>\n",
       "                        <th id=\"T_e8c0b69e_3765_11ea_bce2_e4f89cca76b4level0_row4\" class=\"row_heading level0 row4\" >TC_COMPRESSOR_LAST_WORK_TIME</th>\n",
       "                        <td id=\"T_e8c0b69e_3765_11ea_bce2_e4f89cca76b4row4_col0\" class=\"data row4 col0\" >-0.31133</td>\n",
       "                        <td id=\"T_e8c0b69e_3765_11ea_bce2_e4f89cca76b4row4_col1\" class=\"data row4 col1\" >-0.0882586</td>\n",
       "                        <td id=\"T_e8c0b69e_3765_11ea_bce2_e4f89cca76b4row4_col2\" class=\"data row4 col2\" >-0.30847</td>\n",
       "                        <td id=\"T_e8c0b69e_3765_11ea_bce2_e4f89cca76b4row4_col3\" class=\"data row4 col3\" >-0.0781121</td>\n",
       "                        <td id=\"T_e8c0b69e_3765_11ea_bce2_e4f89cca76b4row4_col4\" class=\"data row4 col4\" >1</td>\n",
       "                        <td id=\"T_e8c0b69e_3765_11ea_bce2_e4f89cca76b4row4_col5\" class=\"data row4 col5\" >0.281475</td>\n",
       "            </tr>\n",
       "            <tr>\n",
       "                        <th id=\"T_e8c0b69e_3765_11ea_bce2_e4f89cca76b4level0_row5\" class=\"row_heading level0 row5\" >WORK_TIMER</th>\n",
       "                        <td id=\"T_e8c0b69e_3765_11ea_bce2_e4f89cca76b4row5_col0\" class=\"data row5 col0\" >0.680182</td>\n",
       "                        <td id=\"T_e8c0b69e_3765_11ea_bce2_e4f89cca76b4row5_col1\" class=\"data row5 col1\" >0.687383</td>\n",
       "                        <td id=\"T_e8c0b69e_3765_11ea_bce2_e4f89cca76b4row5_col2\" class=\"data row5 col2\" >0.548027</td>\n",
       "                        <td id=\"T_e8c0b69e_3765_11ea_bce2_e4f89cca76b4row5_col3\" class=\"data row5 col3\" >0.480802</td>\n",
       "                        <td id=\"T_e8c0b69e_3765_11ea_bce2_e4f89cca76b4row5_col4\" class=\"data row5 col4\" >0.281475</td>\n",
       "                        <td id=\"T_e8c0b69e_3765_11ea_bce2_e4f89cca76b4row5_col5\" class=\"data row5 col5\" >1</td>\n",
       "            </tr>\n",
       "    </tbody></table>"
      ],
      "text/plain": [
       "<pandas.io.formats.style.Styler at 0x7f941ca9a160>"
      ]
     },
     "execution_count": 35,
     "metadata": {},
     "output_type": "execute_result"
    }
   ],
   "source": [
    "columns = list(parameters.keys())\n",
    "columns.append('WORK_TIMER')\n",
    "corr = data_module[columns].corr()\n",
    "corr.style.background_gradient(cmap='coolwarm')"
   ]
  },
  {
   "cell_type": "code",
   "execution_count": 44,
   "metadata": {},
   "outputs": [
    {
     "data": {
      "text/plain": [
       "TimedeltaIndex(['00:00:00', '00:01:00', '00:02:00', '00:03:00', '00:04:00',\n",
       "                '00:05:00', '00:06:00', '00:07:00', '00:08:00', '00:09:00',\n",
       "                ...\n",
       "                '23:50:00', '23:51:00', '23:52:00', '23:53:00', '23:54:00',\n",
       "                '23:55:00', '23:56:00', '23:57:00', '23:58:00', '23:59:00'],\n",
       "               dtype='timedelta64[ns]', length=1440, freq=None)"
      ]
     },
     "execution_count": 44,
     "metadata": {},
     "output_type": "execute_result"
    }
   ],
   "source": [
    "time_list = pd.to_timedelta(np.arange(24*60), unit='m')\n",
    "time_list"
   ]
  },
  {
   "cell_type": "code",
   "execution_count": null,
   "metadata": {},
   "outputs": [],
   "source": []
  }
 ],
 "metadata": {
  "kernelspec": {
   "display_name": "Python 3",
   "language": "python",
   "name": "python3"
  },
  "language_info": {
   "codemirror_mode": {
    "name": "ipython",
    "version": 3
   },
   "file_extension": ".py",
   "mimetype": "text/x-python",
   "name": "python",
   "nbconvert_exporter": "python",
   "pygments_lexer": "ipython3",
   "version": "3.7.3"
  }
 },
 "nbformat": 4,
 "nbformat_minor": 2
}
