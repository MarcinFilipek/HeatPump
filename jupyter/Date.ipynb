{
 "cells": [
  {
   "cell_type": "code",
   "execution_count": 41,
   "metadata": {},
   "outputs": [],
   "source": [
    "import pandas as pd\n",
    "\n",
    "date= '2020-01-12'\n",
    "path = '../data/{}.csv'.format(date)"
   ]
  },
  {
   "cell_type": "code",
   "execution_count": 42,
   "metadata": {},
   "outputs": [],
   "source": [
    "df = pd.read_csv(path)"
   ]
  },
  {
   "cell_type": "code",
   "execution_count": 43,
   "metadata": {},
   "outputs": [],
   "source": [
    "df = df.sort_values('time')\n",
    "df.time = pd.to_datetime(df.time)"
   ]
  },
  {
   "cell_type": "code",
   "execution_count": 44,
   "metadata": {},
   "outputs": [],
   "source": [
    "df = df[(df.id_module == 23082) & (df.id_status == 1022)]"
   ]
  },
  {
   "cell_type": "code",
   "execution_count": 45,
   "metadata": {},
   "outputs": [],
   "source": [
    "df['godz_min'] = df.time.apply(lambda val: val.time())"
   ]
  },
  {
   "cell_type": "code",
   "execution_count": 46,
   "metadata": {},
   "outputs": [
    {
     "data": {
      "text/html": [
       "<div>\n",
       "<style scoped>\n",
       "    .dataframe tbody tr th:only-of-type {\n",
       "        vertical-align: middle;\n",
       "    }\n",
       "\n",
       "    .dataframe tbody tr th {\n",
       "        vertical-align: top;\n",
       "    }\n",
       "\n",
       "    .dataframe thead th {\n",
       "        text-align: right;\n",
       "    }\n",
       "</style>\n",
       "<table border=\"1\" class=\"dataframe\">\n",
       "  <thead>\n",
       "    <tr style=\"text-align: right;\">\n",
       "      <th></th>\n",
       "      <th>id_module</th>\n",
       "      <th>id_status</th>\n",
       "      <th>value</th>\n",
       "      <th>time</th>\n",
       "      <th>godz_min</th>\n",
       "    </tr>\n",
       "  </thead>\n",
       "  <tbody>\n",
       "    <tr>\n",
       "      <th>4418</th>\n",
       "      <td>23082</td>\n",
       "      <td>1022</td>\n",
       "      <td>1022,5011,1,1,1,1385,197,-1,-1,1</td>\n",
       "      <td>2020-01-12 00:00:19.479007</td>\n",
       "      <td>00:00:19.479007</td>\n",
       "    </tr>\n",
       "    <tr>\n",
       "      <th>286</th>\n",
       "      <td>23082</td>\n",
       "      <td>1022</td>\n",
       "      <td>1022,5011,1,1,1,1385,197,-1,-1,1</td>\n",
       "      <td>2020-01-12 00:01:19.804196</td>\n",
       "      <td>00:01:19.804196</td>\n",
       "    </tr>\n",
       "    <tr>\n",
       "      <th>4903</th>\n",
       "      <td>23082</td>\n",
       "      <td>1022</td>\n",
       "      <td>1022,5011,1,1,1,1385,447,-1,-1,1</td>\n",
       "      <td>2020-01-12 00:02:20.066601</td>\n",
       "      <td>00:02:20.066601</td>\n",
       "    </tr>\n",
       "    <tr>\n",
       "      <th>771</th>\n",
       "      <td>23082</td>\n",
       "      <td>1022</td>\n",
       "      <td>1022,5011,1,1,1,1385,591,-1,-1,1</td>\n",
       "      <td>2020-01-12 00:03:20.376753</td>\n",
       "      <td>00:03:20.376753</td>\n",
       "    </tr>\n",
       "    <tr>\n",
       "      <th>5388</th>\n",
       "      <td>23082</td>\n",
       "      <td>1022</td>\n",
       "      <td>1022,5011,1,1,1,1385,624,-1,-1,1</td>\n",
       "      <td>2020-01-12 00:04:20.670404</td>\n",
       "      <td>00:04:20.670404</td>\n",
       "    </tr>\n",
       "    <tr>\n",
       "      <th>...</th>\n",
       "      <td>...</td>\n",
       "      <td>...</td>\n",
       "      <td>...</td>\n",
       "      <td>...</td>\n",
       "      <td>...</td>\n",
       "    </tr>\n",
       "    <tr>\n",
       "      <th>687185</th>\n",
       "      <td>23082</td>\n",
       "      <td>1022</td>\n",
       "      <td>1022,5011,1,1,1,1385,728,-1,-1,1</td>\n",
       "      <td>2020-01-12 23:55:10.215361</td>\n",
       "      <td>23:55:10.215361</td>\n",
       "    </tr>\n",
       "    <tr>\n",
       "      <th>687670</th>\n",
       "      <td>23082</td>\n",
       "      <td>1022</td>\n",
       "      <td>1022,5011,1,1,1,1385,739,-1,-1,1</td>\n",
       "      <td>2020-01-12 23:56:10.478216</td>\n",
       "      <td>23:56:10.478216</td>\n",
       "    </tr>\n",
       "    <tr>\n",
       "      <th>688155</th>\n",
       "      <td>23082</td>\n",
       "      <td>1022</td>\n",
       "      <td>1022,5011,1,1,1,1385,734,-1,-1,1</td>\n",
       "      <td>2020-01-12 23:57:10.819150</td>\n",
       "      <td>23:57:10.819150</td>\n",
       "    </tr>\n",
       "    <tr>\n",
       "      <th>688640</th>\n",
       "      <td>23082</td>\n",
       "      <td>1022</td>\n",
       "      <td>1022,5011,1,1,1,1385,738,-1,-1,1</td>\n",
       "      <td>2020-01-12 23:58:11.252617</td>\n",
       "      <td>23:58:11.252617</td>\n",
       "    </tr>\n",
       "    <tr>\n",
       "      <th>689125</th>\n",
       "      <td>23082</td>\n",
       "      <td>1022</td>\n",
       "      <td>1022,5011,1,1,1,1385,750,-1,-1,1</td>\n",
       "      <td>2020-01-12 23:59:11.547674</td>\n",
       "      <td>23:59:11.547674</td>\n",
       "    </tr>\n",
       "  </tbody>\n",
       "</table>\n",
       "<p>1430 rows × 5 columns</p>\n",
       "</div>"
      ],
      "text/plain": [
       "        id_module  id_status                             value  \\\n",
       "4418        23082       1022  1022,5011,1,1,1,1385,197,-1,-1,1   \n",
       "286         23082       1022  1022,5011,1,1,1,1385,197,-1,-1,1   \n",
       "4903        23082       1022  1022,5011,1,1,1,1385,447,-1,-1,1   \n",
       "771         23082       1022  1022,5011,1,1,1,1385,591,-1,-1,1   \n",
       "5388        23082       1022  1022,5011,1,1,1,1385,624,-1,-1,1   \n",
       "...           ...        ...                               ...   \n",
       "687185      23082       1022  1022,5011,1,1,1,1385,728,-1,-1,1   \n",
       "687670      23082       1022  1022,5011,1,1,1,1385,739,-1,-1,1   \n",
       "688155      23082       1022  1022,5011,1,1,1,1385,734,-1,-1,1   \n",
       "688640      23082       1022  1022,5011,1,1,1,1385,738,-1,-1,1   \n",
       "689125      23082       1022  1022,5011,1,1,1,1385,750,-1,-1,1   \n",
       "\n",
       "                             time         godz_min  \n",
       "4418   2020-01-12 00:00:19.479007  00:00:19.479007  \n",
       "286    2020-01-12 00:01:19.804196  00:01:19.804196  \n",
       "4903   2020-01-12 00:02:20.066601  00:02:20.066601  \n",
       "771    2020-01-12 00:03:20.376753  00:03:20.376753  \n",
       "5388   2020-01-12 00:04:20.670404  00:04:20.670404  \n",
       "...                           ...              ...  \n",
       "687185 2020-01-12 23:55:10.215361  23:55:10.215361  \n",
       "687670 2020-01-12 23:56:10.478216  23:56:10.478216  \n",
       "688155 2020-01-12 23:57:10.819150  23:57:10.819150  \n",
       "688640 2020-01-12 23:58:11.252617  23:58:11.252617  \n",
       "689125 2020-01-12 23:59:11.547674  23:59:11.547674  \n",
       "\n",
       "[1430 rows x 5 columns]"
      ]
     },
     "execution_count": 46,
     "metadata": {},
     "output_type": "execute_result"
    }
   ],
   "source": [
    "df"
   ]
  },
  {
   "cell_type": "code",
   "execution_count": null,
   "metadata": {},
   "outputs": [],
   "source": []
  }
 ],
 "metadata": {
  "kernelspec": {
   "display_name": "Python 3",
   "language": "python",
   "name": "python3"
  },
  "language_info": {
   "codemirror_mode": {
    "name": "ipython",
    "version": 3
   },
   "file_extension": ".py",
   "mimetype": "text/x-python",
   "name": "python",
   "nbconvert_exporter": "python",
   "pygments_lexer": "ipython3",
   "version": "3.7.3"
  }
 },
 "nbformat": 4,
 "nbformat_minor": 2
}
