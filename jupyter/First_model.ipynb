{
 "cells": [
  {
   "cell_type": "code",
   "execution_count": 3,
   "metadata": {},
   "outputs": [],
   "source": [
    "import pandas as pd\n",
    "import numpy as np\n",
    "from tensorflow import keras\n",
    "from tensorflow.keras import layers\n",
    "from tensorflow.keras import metrics\n",
    "from tensorflow.keras.optimizers import Adam, RMSprop\n",
    "from sklearn.preprocessing import MinMaxScaler\n",
    "from sklearn.metrics import accuracy_score\n",
    "import matplotlib.pyplot as plt"
   ]
  },
  {
   "cell_type": "markdown",
   "metadata": {},
   "source": [
    "## Datasets."
   ]
  },
  {
   "cell_type": "code",
   "execution_count": 4,
   "metadata": {},
   "outputs": [
    {
     "name": "stdout",
     "output_type": "stream",
     "text": [
      "Database: (225676, 7)\n",
      "Database after fill nan: (225676, 7)\n"
     ]
    }
   ],
   "source": [
    "feature_names = ['TC_COMPRESSOR_STATE', \n",
    "                 'TC_UPPER_SOURCE_PUMP_STATE',\n",
    "                 'WORK_TIMER', \n",
    "                 'TC_CURRENT_FLOW',\n",
    "                 'TC_CURRENT_POWER_CONSUMPTION',\n",
    "                 'TC_COMPRESSOR_OIL_TEMP',\n",
    "                 'TC_EVD_CONDENSING_PRESSURE']\n",
    "\n",
    "path = '../data_for_models/data.csv'\n",
    "df = pd.read_csv(path)\n",
    "df = df[feature_names]\n",
    "print(\"Database: {}\".format(df.shape))\n",
    "# df = df.dropna()\n",
    "df = df.fillna(method='ffill')\n",
    "print(\"Database after fill nan: {}\".format(df.shape))"
   ]
  },
  {
   "cell_type": "markdown",
   "metadata": {},
   "source": [
    "### Train and test dataset."
   ]
  },
  {
   "cell_type": "code",
   "execution_count": 5,
   "metadata": {},
   "outputs": [],
   "source": [
    "train_dataset = df[feature_names].sample(frac=0.8,random_state=0)\n",
    "test_dataset = df[feature_names].drop(train_dataset.index)\n",
    "\n",
    "train_y = train_dataset.pop('TC_EVD_CONDENSING_PRESSURE')\n",
    "test_y = test_dataset.pop('TC_EVD_CONDENSING_PRESSURE')"
   ]
  },
  {
   "cell_type": "markdown",
   "metadata": {},
   "source": [
    "### Normalization."
   ]
  },
  {
   "cell_type": "code",
   "execution_count": 6,
   "metadata": {},
   "outputs": [],
   "source": [
    "def normalization(data, columns):\n",
    "    scaler = MinMaxScaler()\n",
    "    for col in columns:\n",
    "        norm = scaler.fit_transform(data[col].values.reshape(-1, 1))\n",
    "        data[col] = norm\n",
    "    return data\n",
    "        \n",
    "train_dataset = normalization(train_dataset, ['TC_COMPRESSOR_STATE',\n",
    "                                              'TC_UPPER_SOURCE_PUMP_STATE',\n",
    "                                              'TC_CURRENT_FLOW',\n",
    "                                              'TC_CURRENT_POWER_CONSUMPTION',\n",
    "                                              'WORK_TIMER',\n",
    "                                              'TC_COMPRESSOR_OIL_TEMP'\n",
    "                                             ])\n",
    "test_dataset = normalization(test_dataset, ['TC_COMPRESSOR_STATE', \n",
    "                                            'TC_UPPER_SOURCE_PUMP_STATE',\n",
    "                                            'TC_CURRENT_FLOW',\n",
    "                                            'TC_CURRENT_POWER_CONSUMPTION',\n",
    "                                            'WORK_TIMER',\n",
    "                                            'TC_COMPRESSOR_OIL_TEMP'\n",
    "                                           ])"
   ]
  },
  {
   "cell_type": "markdown",
   "metadata": {},
   "source": [
    "### Model"
   ]
  },
  {
   "cell_type": "code",
   "execution_count": 7,
   "metadata": {},
   "outputs": [
    {
     "name": "stderr",
     "output_type": "stream",
     "text": [
      "WARNING: Logging before flag parsing goes to stderr.\n",
      "W0121 12:16:39.369774 139635328649024 deprecation.py:506] From /home/marcin/anaconda3/envs/ml/lib/python3.7/site-packages/tensorflow/python/ops/init_ops.py:1251: calling VarianceScaling.__init__ (from tensorflow.python.ops.init_ops) with dtype is deprecated and will be removed in a future version.\n",
      "Instructions for updating:\n",
      "Call initializer instance with the dtype argument instead of passing it to the constructor\n"
     ]
    },
    {
     "name": "stdout",
     "output_type": "stream",
     "text": [
      "Model: \"sequential\"\n",
      "_________________________________________________________________\n",
      "Layer (type)                 Output Shape              Param #   \n",
      "=================================================================\n",
      "dense (Dense)                (None, 32)                224       \n",
      "_________________________________________________________________\n",
      "dropout (Dropout)            (None, 32)                0         \n",
      "_________________________________________________________________\n",
      "dense_1 (Dense)              (None, 16)                528       \n",
      "_________________________________________________________________\n",
      "dropout_1 (Dropout)          (None, 16)                0         \n",
      "_________________________________________________________________\n",
      "dense_2 (Dense)              (None, 8)                 136       \n",
      "_________________________________________________________________\n",
      "dropout_2 (Dropout)          (None, 8)                 0         \n",
      "_________________________________________________________________\n",
      "dense_3 (Dense)              (None, 1)                 9         \n",
      "=================================================================\n",
      "Total params: 897\n",
      "Trainable params: 897\n",
      "Non-trainable params: 0\n",
      "_________________________________________________________________\n"
     ]
    }
   ],
   "source": [
    "model = keras.Sequential([\n",
    "    layers.Dense(32, activation='relu', input_shape=[len(train_dataset.columns)]),\n",
    "    layers.Dropout(0.5),\n",
    "    layers.Dense(16, activation='relu'),\n",
    "    layers.Dropout(0.5),\n",
    "    layers.Dense(8, activation='relu'),\n",
    "    layers.Dropout(0.5),\n",
    "    layers.Dense(1)\n",
    "])\n",
    "\n",
    "# optimizer = Adam(learning_rate=0.001, beta_1 = 0.9, beta_2=0.999, amsgrad=False)\n",
    "optimizer = RMSprop(learning_rate=0.005, rho=0.9)\n",
    "model.compile(loss='mse', optimizer=optimizer, metrics =[metrics.mae])\n",
    "model.summary()"
   ]
  },
  {
   "cell_type": "markdown",
   "metadata": {},
   "source": [
    "### Train"
   ]
  },
  {
   "cell_type": "code",
   "execution_count": 8,
   "metadata": {},
   "outputs": [
    {
     "name": "stdout",
     "output_type": "stream",
     "text": [
      "Train on 126378 samples, validate on 54163 samples\n",
      "Epoch 1/10\n",
      "126378/126378 [==============================] - 12s 95us/sample - loss: 4276.9704 - mean_absolute_error: 53.1022 - val_loss: 1359.7401 - val_mean_absolute_error: 32.5164\n",
      "Epoch 2/10\n",
      "126378/126378 [==============================] - 11s 87us/sample - loss: 2889.6929 - mean_absolute_error: 43.2172 - val_loss: 1133.2330 - val_mean_absolute_error: 29.3480\n",
      "Epoch 3/10\n",
      "126378/126378 [==============================] - 11s 86us/sample - loss: 2462.1161 - mean_absolute_error: 39.8696 - val_loss: 1050.7369 - val_mean_absolute_error: 28.0558\n",
      "Epoch 4/10\n",
      "126378/126378 [==============================] - 12s 93us/sample - loss: 2178.8430 - mean_absolute_error: 37.6210 - val_loss: 976.9309 - val_mean_absolute_error: 26.7460\n",
      "Epoch 5/10\n",
      "126378/126378 [==============================] - 11s 87us/sample - loss: 1935.4018 - mean_absolute_error: 35.4830 - val_loss: 1128.8057 - val_mean_absolute_error: 29.3444\n",
      "Epoch 6/10\n",
      "126378/126378 [==============================] - 12s 92us/sample - loss: 1729.0380 - mean_absolute_error: 33.5290 - val_loss: 954.0808 - val_mean_absolute_error: 26.1128\n",
      "Epoch 7/10\n",
      "126378/126378 [==============================] - 11s 88us/sample - loss: 1533.2269 - mean_absolute_error: 31.7217 - val_loss: 950.1841 - val_mean_absolute_error: 26.0240\n",
      "Epoch 8/10\n",
      "126378/126378 [==============================] - 11s 88us/sample - loss: 1374.0064 - mean_absolute_error: 30.0158 - val_loss: 828.3012 - val_mean_absolute_error: 23.5351\n",
      "Epoch 9/10\n",
      "126378/126378 [==============================] - 11s 86us/sample - loss: 1261.4555 - mean_absolute_error: 28.6459 - val_loss: 769.3209 - val_mean_absolute_error: 21.6627\n",
      "Epoch 10/10\n",
      "126378/126378 [==============================] - 11s 88us/sample - loss: 1157.4634 - mean_absolute_error: 27.3431 - val_loss: 810.1335 - val_mean_absolute_error: 22.6190\n"
     ]
    }
   ],
   "source": [
    "epochs = 10\n",
    "history = model.fit(train_dataset, \n",
    "                    train_y, \n",
    "                    epochs=epochs, \n",
    "                    validation_split=0.3, \n",
    "                    verbose=1, \n",
    "                    batch_size=64)"
   ]
  },
  {
   "cell_type": "code",
   "execution_count": 9,
   "metadata": {},
   "outputs": [
    {
     "data": {
      "image/png": "[encoded data removed]",
      "text/plain": [
       "<Figure size 1080x360 with 1 Axes>"
      ]
     },
     "metadata": {
      "needs_background": "light"
     },
     "output_type": "display_data"
    }
   ],
   "source": [
    "# summarize history for loss\n",
    "plt.figure(figsize=(15,5))\n",
    "plt.plot(history.history['loss'])\n",
    "plt.plot(history.history['val_loss'])\n",
    "plt.title('model loss')\n",
    "plt.ylabel('loss')\n",
    "plt.xlabel('epoch')\n",
    "plt.legend(['train', 'test'], loc='upper left')\n",
    "plt.show()"
   ]
  },
  {
   "cell_type": "code",
   "execution_count": 12,
   "metadata": {},
   "outputs": [
    {
     "data": {
      "text/plain": [
       "20.419710459212098"
      ]
     },
     "execution_count": 12,
     "metadata": {},
     "output_type": "execute_result"
    }
   ],
   "source": [
    "y_pred = model.predict(test_dataset)\n",
    "y_true = np.reshape(test_y.values, (y_pred.shape[0],1))\n",
    "\n",
    "acc = np.abs(y_pred - y_true).mean()\n",
    "acc"
   ]
  },
  {
   "cell_type": "code",
   "execution_count": null,
   "metadata": {},
   "outputs": [],
   "source": [
    "x = list(range(100))\n",
    "plt.figure(figsize=(15,5))\n",
    "plt.plot(x, y_pred[100:200], '-', label='pred')\n",
    "plt.plot(x, y_true[100:200], '-', label='true')\n",
    "plt.legend()\n",
    "plt.show()"
   ]
  },
  {
   "cell_type": "code",
   "execution_count": null,
   "metadata": {},
   "outputs": [],
   "source": []
  }
 ],
 "metadata": {
  "kernelspec": {
   "display_name": "Python 3",
   "language": "python",
   "name": "python3"
  },
  "language_info": {
   "codemirror_mode": {
    "name": "ipython",
    "version": 3
   },
   "file_extension": ".py",
   "mimetype": "text/x-python",
   "name": "python",
   "nbconvert_exporter": "python",
   "pygments_lexer": "ipython3",
   "version": "3.7.3"
  }
 },
 "nbformat": 4,
 "nbformat_minor": 4
}
