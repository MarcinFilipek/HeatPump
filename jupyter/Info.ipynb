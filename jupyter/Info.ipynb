{
 "cells": [
  {
   "cell_type": "markdown",
   "metadata": {},
   "source": [
    "## Stosunek temperatury do cisnienia - propan"
   ]
  },
  {
   "cell_type": "markdown",
   "metadata": {},
   "source": [
    "|Temp|Temp|Pressure|Pressure|Pressure|\n",
    "|----|----|--------|--------|--------|\n",
    "|ºC\t | ºF |   kPa  | PSIG\t| Bar    |\n",
    "|70\t |158 |2482\t   |360\t    |24.8    |\n",
    "|60\t |140 |2013\t   |292\t    |20.1    |\n",
    "|54\t |130 |1794\t   |257\t    |17.9    |\n",
    "|43\t |110 |1358\t   |197\t    |13.6    |\n",
    "|38\t |100 |1186\t   |172\t    |11.9    |\n",
    "|32\t |90  |1027\t   |149\t    |10.3    |\n",
    "|27\t |80  |883\t   |128\t    |8.8     |\n",
    "|16\t |60  |637\t   |92\t    |6.4     |\n",
    "|-1\t |30  |356\t   |51\t    |3.6     |\n",
    "|-18 |0\t  |152\t   |24\t    |1.5     |\n",
    "|-29 |-20 |74\t   |11\t    |0.7     |\n",
    "|-43 |-45 |0\t   |0\t    |0       |"
   ]
  },
  {
   "cell_type": "code",
   "execution_count": null,
   "metadata": {},
   "outputs": [],
   "source": []
  }
 ],
 "metadata": {
  "kernelspec": {
   "display_name": "Python 3",
   "language": "python",
   "name": "python3"
  },
  "language_info": {
   "codemirror_mode": {
    "name": "ipython",
    "version": 3
   },
   "file_extension": ".py",
   "mimetype": "text/x-python",
   "name": "python",
   "nbconvert_exporter": "python",
   "pygments_lexer": "ipython3",
   "version": "3.7.3"
  }
 },
 "nbformat": 4,
 "nbformat_minor": 4
}
